{
 "nbformat": 4,
 "nbformat_minor": 2,
 "metadata": {
  "language_info": {
   "name": "python",
   "codemirror_mode": {
    "name": "ipython",
    "version": 3
   },
   "version": "3.8.7-final"
  },
  "orig_nbformat": 2,
  "file_extension": ".py",
  "mimetype": "text/x-python",
  "name": "python",
  "npconvert_exporter": "python",
  "pygments_lexer": "ipython3",
  "version": 3,
  "kernelspec": {
   "name": "python38764bitf218016e547542f392ce2c6d210e52d5",
   "display_name": "Python 3.8.7 64-bit"
  }
 },
 "cells": [
  {
   "cell_type": "code",
   "execution_count": 1,
   "metadata": {},
   "outputs": [],
   "source": [
    "import pandas as pd\n",
    "import sqlite3"
   ]
  },
  {
   "cell_type": "code",
   "execution_count": 2,
   "metadata": {},
   "outputs": [],
   "source": [
    "conn = sqlite3.connect(\"dealer_inv.db\")"
   ]
  },
  {
   "cell_type": "code",
   "execution_count": 3,
   "metadata": {},
   "outputs": [
    {
     "output_type": "execute_result",
     "data": {
      "text/plain": "                dealer                                               desc  \\\n0  Frank Fletcher Ford  Ford Edge SE SUV EcoBoost I4 GTDi DOHC Turboch...   \n1  Frank Fletcher Ford  Ford Mustang Ecoboost Coupe EcoBoost I4 GTDi D...   \n2  Frank Fletcher Ford  Ford Ranger XL Truck EcoBoost I4 GTDi DOHC Tur...   \n\n   year                                             engine  \\\n0  2020   2L EcoBoost I4 GTDi DOHC Turbocharged VCT Engine   \n1  2019  2.3L EcoBoost I4 GTDi DOHC Turbocharged VCT En...   \n2  2020  2.3L EcoBoost I4 GTDi DOHC Turbocharged VCT En...   \n\n          transmission  odometer    mpg        stock_number  \\\n0   8-Speed Automatic       5734  21/29  Stock #: FD12823A    \n1  10-Speed Automatic       3910  21/31  Stock #: FD12660A    \n2  10-Speed Automatic       6927  21/26  Stock #: FD12920A    \n\n                  vin  price                   scan_time  \n0  2FMPK3G99LBB14284   27577  2021-04-28 12:56:40.963756  \n1  1FA6P8TH7K5157963   27997  2021-04-28 12:56:40.963756  \n2  1FTER1EH8LLA50762   28997  2021-04-28 12:56:40.963756  ",
      "text/html": "<div>\n<style scoped>\n    .dataframe tbody tr th:only-of-type {\n        vertical-align: middle;\n    }\n\n    .dataframe tbody tr th {\n        vertical-align: top;\n    }\n\n    .dataframe thead th {\n        text-align: right;\n    }\n</style>\n<table border=\"1\" class=\"dataframe\">\n  <thead>\n    <tr style=\"text-align: right;\">\n      <th></th>\n      <th>dealer</th>\n      <th>desc</th>\n      <th>year</th>\n      <th>engine</th>\n      <th>transmission</th>\n      <th>odometer</th>\n      <th>mpg</th>\n      <th>stock_number</th>\n      <th>vin</th>\n      <th>price</th>\n      <th>scan_time</th>\n    </tr>\n  </thead>\n  <tbody>\n    <tr>\n      <th>0</th>\n      <td>Frank Fletcher Ford</td>\n      <td>Ford Edge SE SUV EcoBoost I4 GTDi DOHC Turboch...</td>\n      <td>2020</td>\n      <td>2L EcoBoost I4 GTDi DOHC Turbocharged VCT Engine</td>\n      <td>8-Speed Automatic</td>\n      <td>5734</td>\n      <td>21/29</td>\n      <td>Stock #: FD12823A</td>\n      <td>2FMPK3G99LBB14284</td>\n      <td>27577</td>\n      <td>2021-04-28 12:56:40.963756</td>\n    </tr>\n    <tr>\n      <th>1</th>\n      <td>Frank Fletcher Ford</td>\n      <td>Ford Mustang Ecoboost Coupe EcoBoost I4 GTDi D...</td>\n      <td>2019</td>\n      <td>2.3L EcoBoost I4 GTDi DOHC Turbocharged VCT En...</td>\n      <td>10-Speed Automatic</td>\n      <td>3910</td>\n      <td>21/31</td>\n      <td>Stock #: FD12660A</td>\n      <td>1FA6P8TH7K5157963</td>\n      <td>27997</td>\n      <td>2021-04-28 12:56:40.963756</td>\n    </tr>\n    <tr>\n      <th>2</th>\n      <td>Frank Fletcher Ford</td>\n      <td>Ford Ranger XL Truck EcoBoost I4 GTDi DOHC Tur...</td>\n      <td>2020</td>\n      <td>2.3L EcoBoost I4 GTDi DOHC Turbocharged VCT En...</td>\n      <td>10-Speed Automatic</td>\n      <td>6927</td>\n      <td>21/26</td>\n      <td>Stock #: FD12920A</td>\n      <td>1FTER1EH8LLA50762</td>\n      <td>28997</td>\n      <td>2021-04-28 12:56:40.963756</td>\n    </tr>\n  </tbody>\n</table>\n</div>"
     },
     "metadata": {},
     "execution_count": 3
    }
   ],
   "source": [
    "df = pd.read_sql(\"select * from dealer_vehicle\", conn)\n",
    "df[:3]"
   ]
  },
  {
   "cell_type": "code",
   "execution_count": 4,
   "metadata": {},
   "outputs": [
    {
     "output_type": "execute_result",
     "data": {
      "text/plain": "array(['2021-04-28 12:56:40.963756'], dtype=object)"
     },
     "metadata": {},
     "execution_count": 4
    }
   ],
   "source": [
    "df['scan_time'].unique()"
   ]
  },
  {
   "cell_type": "code",
   "execution_count": null,
   "metadata": {},
   "outputs": [],
   "source": []
  }
 ]
}